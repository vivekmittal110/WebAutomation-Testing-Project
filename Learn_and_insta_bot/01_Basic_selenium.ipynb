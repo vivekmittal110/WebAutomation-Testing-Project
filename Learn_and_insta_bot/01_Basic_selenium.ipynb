{
 "cells": [
  {
   "cell_type": "code",
   "execution_count": 79,
   "id": "bd936d34-4aef-437f-bdb4-2b6c1c57b648",
   "metadata": {},
   "outputs": [],
   "source": [
    "from selenium import webdriver\n",
    "from selenium.webdriver.chrome.service import Service\n",
    "from selenium.webdriver.common.by import By\n",
    "driver_path=\"C:/Users/91931/Downloads/chromedriver-win64/chromedriver-win64/chromedriver.exe\"\n",
    "service = Service(driver_path)\n",
    "driver = webdriver.Chrome(service=service)\n",
    "driver.get(\"https://www.python.org/\")"
   ]
  },
  {
   "cell_type": "code",
   "execution_count": 70,
   "id": "96f5c299-ca72-4496-98e4-db80d212d141",
   "metadata": {},
   "outputs": [
    {
     "name": "stdout",
     "output_type": "stream",
     "text": [
      "<selenium.webdriver.remote.webelement.WebElement (session=\"f050ab1dbabd00f88e06199664bf8d49\", element=\"f.1F43C6DE97FBCDF5FC9DCA2748FD2F2A.d.CEC5550BF00814201344C7626931BCBF.e.33\")>\n"
     ]
    }
   ],
   "source": [
    "elt = driver.find_element(By.ID, 'mainnav')\n",
    "elts = driver.find_elements(By.ID, 'mainnav')\n",
    "# print(elt)\n",
    "# print(elts)\n",
    "elt2 = driver.find_element(By.CLASS_NAME, 'donate-button')\n",
    "# print(elt2)\n",
    "elt3 = driver.find_element(By.XPATH, '//*[@id=\"touchnav-wrapper\"]/header/div/div[1]/a')\n",
    "# print(elt3)\n",
    "\n",
    "elt4 = driver.find_element(By.LINK_TEXT, 'Donate')  //ankr tag\n",
    "print(elt4)"
   ]
  },
  {
   "cell_type": "code",
   "execution_count": 74,
   "id": "b22451ae-1db0-4b38-9c3d-19c70135bda5",
   "metadata": {},
   "outputs": [
    {
     "name": "stdout",
     "output_type": "stream",
     "text": [
      "<selenium.webdriver.remote.webelement.WebElement (session=\"f050ab1dbabd00f88e06199664bf8d49\", element=\"f.1F43C6DE97FBCDF5FC9DCA2748FD2F2A.d.CEC5550BF00814201344C7626931BCBF.e.34\")>\n",
      "<selenium.webdriver.remote.webelement.WebElement (session=\"f050ab1dbabd00f88e06199664bf8d49\", element=\"f.1F43C6DE97FBCDF5FC9DCA2748FD2F2A.d.CEC5550BF00814201344C7626931BCBF.e.6\")>\n"
     ]
    }
   ],
   "source": [
    "elt5 = driver.find_element(By.TAG_NAME, 'div')\n",
    "print(elt5)\n",
    "elt6 = driver.find_elements(By.TAG_NAME, 'div')  // tage name\n",
    "# print(elt6)\n",
    "elt7 = driver.find_element(By.NAME, 'q')   //form element\n",
    "print(elt7)"
   ]
  }
 ],
 "metadata": {
  "kernelspec": {
   "display_name": "Python 3 (ipykernel)",
   "language": "python",
   "name": "python3"
  },
  "language_info": {
   "codemirror_mode": {
    "name": "ipython",
    "version": 3
   },
   "file_extension": ".py",
   "mimetype": "text/x-python",
   "name": "python",
   "nbconvert_exporter": "python",
   "pygments_lexer": "ipython3",
   "version": "3.12.7"
  }
 },
 "nbformat": 4,
 "nbformat_minor": 5
}
