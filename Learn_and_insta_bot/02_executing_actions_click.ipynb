{
 "cells": [
  {
   "cell_type": "code",
   "execution_count": 24,
   "id": "bd9e29f0-1a25-4863-9768-9b2b564f4a01",
   "metadata": {},
   "outputs": [],
   "source": [
    "from selenium import webdriver\n",
    "from selenium.webdriver.chrome.service import Service\n",
    "from selenium.webdriver.common.by import By\n",
    "from selenium.webdriver.common.action_chains import ActionChains\n",
    "import time\n",
    "\n",
    "driver_path = \"C:/Users/91931/Downloads/chromedriver-win64/chromedriver-win64/chromedriver.exe\"\n",
    "service = Service(driver_path)\n",
    "driver = webdriver.Chrome(service=service)\n",
    "driver.get(\"https://python.org/\")\n",
    "\n",
    "tab = driver.find_element(By.CLASS_NAME, 'donate-button')\n",
    "action = ActionChains(driver)\n",
    "# action.click(on_element = tab)\n",
    "# action.double_click(on_element = tab)\n",
    "action.click_and_hold(on_element = tab)\n",
    "time.sleep(6)\n",
    "action.release(tab)\n",
    "\n",
    "\n",
    "action.perform()\n",
    "\n",
    "# time.sleep(8)\n",
    "driver.close() # it will close the current tab\n",
    "# driver.quit()  # it will shut down the browser "
   ]
  }
 ],
 "metadata": {
  "kernelspec": {
   "display_name": "Python 3 (ipykernel)",
   "language": "python",
   "name": "python3"
  },
  "language_info": {
   "codemirror_mode": {
    "name": "ipython",
    "version": 3
   },
   "file_extension": ".py",
   "mimetype": "text/x-python",
   "name": "python",
   "nbconvert_exporter": "python",
   "pygments_lexer": "ipython3",
   "version": "3.12.7"
  }
 },
 "nbformat": 4,
 "nbformat_minor": 5
}
