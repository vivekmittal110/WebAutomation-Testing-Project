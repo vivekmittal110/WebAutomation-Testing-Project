{
 "cells": [
  {
   "cell_type": "code",
   "execution_count": 10,
   "id": "a121cd6c-53dc-4f23-860c-3646b31d614d",
   "metadata": {},
   "outputs": [],
   "source": [
    "from selenium import webdriver\n",
    "from selenium.webdriver.chrome.service import Service\n",
    "from selenium.webdriver.common.by import By\n",
    "from selenium.webdriver.common.action_chains import ActionChains\n",
    "import time\n",
    "\n",
    "driver_path = \"C:/Users/91931/Downloads/chromedriver-win64/chromedriver-win64/chromedriver.exe\"\n",
    "service = Service(driver_path)\n",
    "driver = webdriver.Chrome(service=service)\n",
    "driver.get(\"https://python.org\")\n",
    "\n",
    "tab = driver.find_element(By.CLASS_NAME, \"donate-button\")\n",
    "\n",
    "action = ActionChains(driver)\n",
    "action.move_to_element(to_element=tab)\n",
    "# action.move_by_offset(100,200) #in this element howwer by giving coordinates\n",
    "# action.move_to_element_with_offset(tab, 200,300).click() # from one point to another\n",
    "\n",
    "\n",
    "action.perform()\n",
    "time.sleep(10)\n",
    "driver.close()"
   ]
  }
 ],
 "metadata": {
  "kernelspec": {
   "display_name": "Python 3 (ipykernel)",
   "language": "python",
   "name": "python3"
  },
  "language_info": {
   "codemirror_mode": {
    "name": "ipython",
    "version": 3
   },
   "file_extension": ".py",
   "mimetype": "text/x-python",
   "name": "python",
   "nbconvert_exporter": "python",
   "pygments_lexer": "ipython3",
   "version": "3.12.7"
  }
 },
 "nbformat": 4,
 "nbformat_minor": 5
}
