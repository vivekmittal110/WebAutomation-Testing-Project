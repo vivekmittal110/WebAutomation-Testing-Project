{
 "cells": [
  {
   "cell_type": "code",
   "execution_count": 9,
   "id": "89679120-063f-4cfd-8cc4-e3e6e5d470b2",
   "metadata": {},
   "outputs": [],
   "source": [
    "from selenium import webdriver\n",
    "from selenium.webdriver.chrome.service import Service\n",
    "from selenium.webdriver.common.by import By\n",
    "from selenium.webdriver.common.action_chains import ActionChains\n",
    "from selenium.webdriver.common.keys import Keys\n",
    "import time\n",
    "\n",
    "driver_path = \"C:/Users/91931/Downloads/chromedriver-win64/chromedriver-win64/chromedriver.exe\"\n",
    "service = Service(driver_path)\n",
    "driver = webdriver.Chrome(service=service)\n",
    "driver.get(\"https://python.org/\")\n",
    "\n",
    "tab = driver.find_element(By.ID, \"id-search-field\")\n",
    "\n",
    "action = ActionChains(driver)\n",
    "\n",
    "# action.click(tab)\n",
    "# action.key_down('p',tab).key_down('y',tab)\n",
    "\n",
    "action.click(tab)\n",
    "action.send_keys(\"python charm \")\n",
    "\n",
    "action.key_down(Keys.SHIFT, tab).send_keys('chain').key_up(Keys.SHIFT).send_keys('python')\n",
    "action.perform()\n",
    "time.sleep(6)\n",
    "driver.close()"
   ]
  }
 ],
 "metadata": {
  "kernelspec": {
   "display_name": "Python 3 (ipykernel)",
   "language": "python",
   "name": "python3"
  },
  "language_info": {
   "codemirror_mode": {
    "name": "ipython",
    "version": 3
   },
   "file_extension": ".py",
   "mimetype": "text/x-python",
   "name": "python",
   "nbconvert_exporter": "python",
   "pygments_lexer": "ipython3",
   "version": "3.12.7"
  }
 },
 "nbformat": 4,
 "nbformat_minor": 5
}
