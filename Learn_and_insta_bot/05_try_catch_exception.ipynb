{
 "cells": [
  {
   "cell_type": "code",
   "execution_count": 6,
   "id": "71e33c2a-a4ef-41b1-bd39-0d294f6c4c12",
   "metadata": {},
   "outputs": [
    {
     "name": "stdout",
     "output_type": "stream",
     "text": [
      "Element with name donate button doesnot exist\n"
     ]
    }
   ],
   "source": [
    "from selenium import webdriver\n",
    "from selenium.webdriver.chrome.service import Service\n",
    "from selenium.webdriver.common.by import By\n",
    "from selenium.webdriver.common.action_chains import ActionChains\n",
    "from selenium.common.exceptions import NoSuchElementException\n",
    "import time\n",
    "\n",
    "driver_path = \"C:/Users/91931/Downloads/chromedriver-win64/chromedriver-win64/chromedriver.exe\"\n",
    "service = Service(driver_path)\n",
    "driver = webdriver.Chrome(service=service)\n",
    "driver.get(\"https://python.org/\")\n",
    "action = ActionChains(driver)\n",
    "try:\n",
    "    tab = driver.find_element(By.CLASS_NAME, 'donat-button')\n",
    "    action.click(tab)\n",
    "except NoSuchElementException:\n",
    "    print(\"Element with name donate button doesnot exist\")\n",
    "\n",
    "search = driver.find_element(By.ID, \"id-search-field\")\n",
    "action.click(search)\n",
    "action.perform()\n",
    "time.sleep(4)\n",
    "driver.quit()"
   ]
  }
 ],
 "metadata": {
  "kernelspec": {
   "display_name": "Python 3 (ipykernel)",
   "language": "python",
   "name": "python3"
  },
  "language_info": {
   "codemirror_mode": {
    "name": "ipython",
    "version": 3
   },
   "file_extension": ".py",
   "mimetype": "text/x-python",
   "name": "python",
   "nbconvert_exporter": "python",
   "pygments_lexer": "ipython3",
   "version": "3.12.7"
  }
 },
 "nbformat": 4,
 "nbformat_minor": 5
}
