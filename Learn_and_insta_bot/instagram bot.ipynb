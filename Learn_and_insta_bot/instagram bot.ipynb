{
 "cells": [
  {
   "cell_type": "code",
   "execution_count": 5,
   "id": "9fd24ed0-6ae2-414d-8d9c-ed1cd3f3e2a3",
   "metadata": {},
   "outputs": [],
   "source": [
    "from selenium import webdriver\n",
    "from selenium.webdriver.chrome.service import Service\n",
    "from selenium.webdriver.common.keys import Keys\n",
    "from selenium.webdriver.common.by import By\n",
    "import time"
   ]
  },
  {
   "cell_type": "code",
   "execution_count": 2,
   "id": "c61a8fd2-7acb-4c24-9925-3f44c56156b2",
   "metadata": {},
   "outputs": [],
   "source": [
    "# ACC_NAME = 'johncena'\n",
    "USERNAME = 'mittalfinanceofficial'\n",
    "PASSWORD = '@110230Vg'\n",
    "PATH = 'C:/Users/91931/Downloads/chromedriver-win64/chromedriver-win64/chromedriver.exe'"
   ]
  },
  {
   "cell_type": "code",
   "execution_count": 3,
   "id": "b40477ce-acad-4fa5-b7c2-228e092ea613",
   "metadata": {},
   "outputs": [],
   "source": [
    "class instagram_bot:\n",
    "    def __init__(self,path):\n",
    "        service = Service(path)\n",
    "        self.driver = webdriver.Chrome(service=service)\n",
    "\n",
    "    def login(self):\n",
    "        self.driver.get('https://www.instagram.com/')\n",
    "        time.sleep(3)\n",
    "\n",
    "        username = self.driver.find_element(By.NAME, 'username')\n",
    "        password = self.driver.find_element(By.NAME, 'password')\n",
    "\n",
    "        username.send_keys(USERNAME)\n",
    "        password.send_keys(PASSWORD)\n",
    "        time.sleep(3)\n",
    "        password.send_keys(Keys.ENTER)\n",
    "\n",
    "    def find_user(self, account_name):\n",
    "        time.sleep(5)\n",
    "        \n",
    "        self.driver.get(f'https://www.instagram.com/{account_name}')\n",
    "        \n",
    "        time.sleep(5)\n",
    "        \n",
    "        follow = self.driver.find_element(By.XPATH,\"//button[.//div[text()='Follow']]\")\n",
    "        follow.click()\n",
    "        \n",
    "        time.sleep(5)\n",
    "        \n",
    "        followers = self.driver.find_element(By.XPATH,\"//a[contains(@href, '/followers/')]\")\n",
    "        followers.click()\n",
    "\n",
    "\n",
    "    # def follow(self,number):\n",
    "    #     time.sleep(5)\n",
    "    #     follow_buttons = \n",
    "        \n",
    "        "
   ]
  },
  {
   "cell_type": "code",
   "execution_count": 4,
   "id": "85a1f3dc-734e-4a6e-948f-03a00db1a9e3",
   "metadata": {},
   "outputs": [],
   "source": [
    "bot = instagram_bot(PATH)\n",
    "bot.login()\n",
    "bot.find_user('johncena')"
   ]
  }
 ],
 "metadata": {
  "kernelspec": {
   "display_name": "Python 3 (ipykernel)",
   "language": "python",
   "name": "python3"
  },
  "language_info": {
   "codemirror_mode": {
    "name": "ipython",
    "version": 3
   },
   "file_extension": ".py",
   "mimetype": "text/x-python",
   "name": "python",
   "nbconvert_exporter": "python",
   "pygments_lexer": "ipython3",
   "version": "3.12.7"
  }
 },
 "nbformat": 4,
 "nbformat_minor": 5
}
