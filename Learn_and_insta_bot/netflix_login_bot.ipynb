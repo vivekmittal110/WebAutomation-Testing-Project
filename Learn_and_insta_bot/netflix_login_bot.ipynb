{
 "cells": [
  {
   "cell_type": "code",
   "execution_count": 14,
   "id": "652a8763-f9c7-4061-bf68-d10698eebce5",
   "metadata": {},
   "outputs": [
    {
     "name": "stdout",
     "output_type": "stream",
     "text": [
      "Successfully selected the 'Nitin' profile.\n",
      "Error during search: Message: no such element: Unable to locate element: {\"method\":\"css selector\",\"selector\":\"input[data-uia=\"search-box-input\"]\"}\n",
      "  (Session info: chrome=131.0.6778.86); For documentation on this error, please visit: https://www.selenium.dev/documentation/webdriver/troubleshooting/errors#no-such-element-exception\n",
      "Stacktrace:\n",
      "\tGetHandleVerifier [0x00007FF6BDE12775+28773]\n",
      "\t(No symbol) [0x00007FF6BDD7AFB0]\n",
      "\t(No symbol) [0x00007FF6BDC1552A]\n",
      "\t(No symbol) [0x00007FF6BDC68EAE]\n",
      "\t(No symbol) [0x00007FF6BDC6919C]\n",
      "\t(No symbol) [0x00007FF6BDCB23F7]\n",
      "\t(No symbol) [0x00007FF6BDC8EFDF]\n",
      "\t(No symbol) [0x00007FF6BDCAF1A4]\n",
      "\t(No symbol) [0x00007FF6BDC8ED43]\n",
      "\t(No symbol) [0x00007FF6BDC5A548]\n",
      "\t(No symbol) [0x00007FF6BDC5B6B1]\n",
      "\tGetHandleVerifier [0x00007FF6BE13F45D+3358029]\n",
      "\tGetHandleVerifier [0x00007FF6BE15430D+3443709]\n",
      "\tGetHandleVerifier [0x00007FF6BE1483FD+3394797]\n",
      "\tGetHandleVerifier [0x00007FF6BDED929B+842635]\n",
      "\t(No symbol) [0x00007FF6BDD8654F]\n",
      "\t(No symbol) [0x00007FF6BDD81FA4]\n",
      "\t(No symbol) [0x00007FF6BDD8213D]\n",
      "\t(No symbol) [0x00007FF6BDD71629]\n",
      "\tBaseThreadInitThunk [0x00007FF83920257D+29]\n",
      "\tRtlUserThreadStart [0x00007FF83A58AF28+40]\n",
      "\n"
     ]
    }
   ],
   "source": [
    "from selenium import webdriver\n",
    "from selenium.webdriver.chrome.service import Service\n",
    "from selenium.webdriver.common.by import By\n",
    "import time\n",
    "\n",
    "driver_path = \"C:/Users/91931/Downloads/chromedriver-win64/chromedriver-win64/chromedriver.exe\"\n",
    "service = Service(driver_path)\n",
    "driver = webdriver.Chrome(service=service)\n",
    "\n",
    "driver.get(\"https://www.netflix.com/login\")\n",
    "\n",
    "driver.maximize_window()\n",
    "\n",
    "email = \"nitingoyal20sept@gmail.com\"  # Replace with your email\n",
    "password = \"SSTN@9210\"                # Replace with your password\n",
    "\n",
    "driver.find_element(By.NAME, \"userLoginId\").send_keys(email)\n",
    "driver.find_element(By.NAME, \"password\").send_keys(password)\n",
    "\n",
    "login_button = driver.find_element(By.XPATH, '//*[@id=\"appMountPoint\"]/div/div/div[2]/div/form/button[1]')\n",
    "login_button.click()\n",
    "\n",
    "time.sleep(5)\n",
    "\n",
    "try:\n",
    "    nitin_profile = driver.find_element(By.XPATH, \"//span[text()='Nitin']/ancestor::a\")\n",
    "    nitin_profile.click()\n",
    "    print(\"Successfully selected the 'Nitin' profile.\")\n",
    "except Exception as e:\n",
    "    print(f\"Error selecting profile: {e}\")\n",
    "\n",
    "time.sleep(5)\n",
    "\n",
    "try:\n",
    "    search_bar = driver.find_element(By.CSS_SELECTOR, 'input[data-uia=\"search-box-input\"]')\n",
    "    search_bar.click()\n",
    "    \n",
    "    search_bar.send_keys(\"Horror\")\n",
    "    \n",
    "    search_bar.send_keys(Keys.ENTER)\n",
    "    print(\"Successfully searched for 'Horror' movies.\")\n",
    "except Exception as e:\n",
    "    print(f\"Error during search: {e}\")\n",
    "\n"
   ]
  }
 ],
 "metadata": {
  "kernelspec": {
   "display_name": "Python 3 (ipykernel)",
   "language": "python",
   "name": "python3"
  },
  "language_info": {
   "codemirror_mode": {
    "name": "ipython",
    "version": 3
   },
   "file_extension": ".py",
   "mimetype": "text/x-python",
   "name": "python",
   "nbconvert_exporter": "python",
   "pygments_lexer": "ipython3",
   "version": "3.12.7"
  }
 },
 "nbformat": 4,
 "nbformat_minor": 5
}
